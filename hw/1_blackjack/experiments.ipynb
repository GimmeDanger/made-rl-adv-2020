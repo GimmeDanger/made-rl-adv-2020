{
 "cells": [
  {
   "cell_type": "markdown",
   "id": "a5638cc5",
   "metadata": {},
   "source": [
    "# RL and Advanced DL: Домашнее задание 1"
   ]
  },
  {
   "cell_type": "markdown",
   "id": "35dbaf2b",
   "metadata": {},
   "source": [
    "Первое ДЗ связано с обучением с подкреплением, и оно придумано для ситуации, когда\n",
    "нейронные сети ещё не нужны, и пространство состояний в целом достаточно маленькое,\n",
    "чтобы можно было обучить хорошую стратегию методами TD-обучения или другими\n",
    "методами обучения с подкреплением. Задание получилось, надеюсь, интересное, но в том\n",
    "числе и достаточно техническое, так что для решения придётся немножко\n",
    "попрограммировать. Поэтому в качестве решения ожидается ссылка на jupyter-ноутбук\n",
    "на вашем github (или публичный, или с доступом для snikolenko); ссылку\n",
    "обязательно нужно прислать в виде сданного домашнего задания на портале\n",
    "Академии. Любые комментарии, новые идеи и рассуждения на тему, как всегда,\n",
    "категорически приветствуются."
   ]
  },
  {
   "cell_type": "markdown",
   "id": "8fe003a6",
   "metadata": {},
   "source": [
    "## Часть первая, с блекджеком и стратегиями"
   ]
  },
  {
   "cell_type": "markdown",
   "id": "1e69e29c",
   "metadata": {},
   "source": [
    "Мы будем обучаться играть в очень простую, но знаменитую и популярную игру: блекджек. Правила блекджека достаточно просты; давайте начнём с самой базовой версии, которая\n",
    "реализована в OpenAI Gym:\n",
    "\n",
    "* численные значения карт равны от 2 до 10 для карт от двойки до десятки, 10 для\n",
    "валетов, дам и королей;\n",
    "* туз считается за 11 очков, если общая сумма карт на руке при этом не превосходит\n",
    "21 (по-английски в этом случае говорят, что на руке есть usable ace), и за 1 очко,\n",
    "если превосходит;\n",
    "* игроку раздаются две карты, дилеру — одна в открытую и одна в закрытую;\n",
    "* игрок может совершать одно из двух действий:\n",
    "    * hit — взять ещё одну карту;\n",
    "    * stand — не брать больше карт;\n",
    "* если сумма очков у игрока на руках больше 21, он проигрывает (bust);\n",
    "* если игрок выбирает stand с суммой не больше 21, дилер добирает карты, пока\n",
    "сумма карт в его руке меньше 17;\n",
    "*  после этого игрок выигрывает, если дилер либо превышает 21, либо получает\n",
    "сумму очков меньше, чем сумма очков у игрока; при равенстве очков объявляется\n",
    "ничья (ставка возвращается);\n",
    "*  в исходных правилах есть ещё дополнительный бонус за natural blackjack: если\n",
    "игрок набирает 21 очко с раздачи, двумя картами, он выигрывает не +1, а +1.5\n",
    "(полторы ставки).\n",
    "\n",
    "\n",
    "Именно этот простейший вариант блекджека реализован в OpenAI Gym:\n",
    "https://github.com/openai/gym/blob/master/gym/envs/toy_text/blackjack.py"
   ]
  },
  {
   "cell_type": "code",
   "execution_count": 1,
   "id": "d878e23d",
   "metadata": {},
   "outputs": [],
   "source": [
    "import tqdm\n",
    "import random\n",
    "import numpy as np\n",
    "import matplotlib.pyplot as plt\n",
    "from itertools import product\n",
    "from blackjack_env import BlackjackEnv, BlackjackDoubleEnv, BlackjackCountingEnv"
   ]
  },
  {
   "cell_type": "code",
   "execution_count": 2,
   "id": "e4164f10",
   "metadata": {},
   "outputs": [],
   "source": [
    "def make_env():\n",
    "    env = BlackjackEnv(natural=True)\n",
    "    env.reset()\n",
    "    return env"
   ]
  },
  {
   "cell_type": "code",
   "execution_count": 3,
   "id": "e677d4bc",
   "metadata": {},
   "outputs": [],
   "source": [
    "def run_episode(env, pi, eps=0.0, max_steps=1000000):\n",
    "    env.reset()\n",
    "    for step in range(max_steps):\n",
    "        prev_state_id = env.get_obs_id(env._get_obs())\n",
    "        action = pi[prev_state_id] if random.random() > eps else env.action_space.sample()\n",
    "        _, reward, done, _ = env.step(action)\n",
    "        if done:\n",
    "            return None, reward\n",
    "    return None, None"
   ]
  },
  {
   "cell_type": "markdown",
   "id": "8eac74e8",
   "metadata": {},
   "source": [
    "### 1.1 Рассмотрим очень простую стратегию: говорить stand, если у нас на руках комбинация в 19, 20 или 21 очко, во всех остальных случаях говорить hit. Используйте методы Монте-Карло, чтобы оценить выигрыш от этой стратегии.\n"
   ]
  },
  {
   "cell_type": "code",
   "execution_count": 4,
   "id": "faeeb856",
   "metadata": {},
   "outputs": [],
   "source": [
    "def get_pi_simple(env):\n",
    "    nS = env.get_states_count()\n",
    "    pi = np.zeros(nS, dtype=int)\n",
    "    for obs in env.get_all_states():\n",
    "        player_card_sum, dealer_card, usable_ace = obs\n",
    "        if player_card_sum in (19, 20, 21):\n",
    "            action = 0 # stand\n",
    "        else:\n",
    "            action = 1 # hit\n",
    "        pi[env.get_obs_id(obs)] = action\n",
    "    return pi"
   ]
  },
  {
   "cell_type": "code",
   "execution_count": 5,
   "id": "e92e721a",
   "metadata": {},
   "outputs": [],
   "source": [
    "def monte_carlo_reward(env, pi, episode_runner, episodes=100000, verbose=True, *args, **kwargs):\n",
    "    total_reward = 0\n",
    "    for _ in tqdm.tqdm(range(episodes), disable=not verbose):\n",
    "        _, reward = episode_runner(env, pi, *args, **kwargs)\n",
    "        total_reward += reward\n",
    "    return total_reward / episodes"
   ]
  },
  {
   "cell_type": "code",
   "execution_count": 6,
   "id": "3bce0d82",
   "metadata": {},
   "outputs": [
    {
     "name": "stderr",
     "output_type": "stream",
     "text": [
      "100%|████████████████████████████████| 100000/100000 [00:09<00:00, 10982.83it/s]\n"
     ]
    },
    {
     "data": {
      "text/plain": [
       "-0.182505"
      ]
     },
     "execution_count": 6,
     "metadata": {},
     "output_type": "execute_result"
    }
   ],
   "source": [
    "def test_reward():\n",
    "    env = make_env()\n",
    "    pi = get_pi_simple(env)\n",
    "    return monte_carlo_reward(env, pi, run_episode)\n",
    "test_reward()"
   ]
  },
  {
   "cell_type": "markdown",
   "id": "3519a657",
   "metadata": {},
   "source": [
    "### 1.2 Реализуйте метод обучения с подкреплением без модели (можно Q-обучение, но рекомендую попробовать и другие, например Monte Carlo control) для обучения стратегии в блекджеке, используя окружение Blackjack-v0 из OpenAI Gym."
   ]
  },
  {
   "cell_type": "code",
   "execution_count": 7,
   "id": "d6f17427",
   "metadata": {},
   "outputs": [
    {
     "name": "stderr",
     "output_type": "stream",
     "text": [
      "Train (a=0.0050, e=0.0500, g=0.10): 100%|█| 100000/100000 [00:09<00:00, 10367.74\n",
      "100%|█████████████████████████████████| 100000/100000 [00:10<00:00, 9385.19it/s]\n"
     ]
    },
    {
     "data": {
      "text/plain": [
       "-0.058145"
      ]
     },
     "execution_count": 7,
     "metadata": {},
     "output_type": "execute_result"
    }
   ],
   "source": [
    "def compute_policy_by_Q(Q):\n",
    "    return np.argmax(Q, axis=1)\n",
    "\n",
    "\n",
    "def run_Q_learning_episode(env, pi, Q, alpha=0.05, epsilon=0.05, gamma=0.9, max_steps=1000000):\n",
    "    env.reset()\n",
    "    s = env.get_obs_id(env._get_obs())\n",
    "    a = pi[s] if random.random() > epsilon else env.action_space.sample()\n",
    "    for _ in range(1000):    \n",
    "        obs, reward, done, info = env.step(a)\n",
    "        s_prime = env.get_obs_id(obs)\n",
    "        a_prime = pi[s_prime] if random.random() > epsilon else env.action_space.sample()\n",
    "        Q[s][a] += alpha * (reward + gamma * np.max( Q[s_prime] ) - Q[s][a])\n",
    "        s, a = s_prime, a_prime\n",
    "        if done:\n",
    "            return Q, reward\n",
    "    return None, None\n",
    "\n",
    "\n",
    "def q_learning(env, alpha=0.1, epsilon=0.1, gamma=0.9, episodes=100000, dump_reward_every=None):\n",
    "    nS = env.get_states_count()\n",
    "    nA = env.get_actions_count()\n",
    "    Q = np.zeros((nS, nA), dtype=float)\n",
    "    pi = compute_policy_by_Q(Q)\n",
    "    \n",
    "    reward_hist = [] if dump_reward_every is not None else None\n",
    "    msg = f'Train (a={alpha:.4f}, e={epsilon:.4f}, g={gamma:.2f})'\n",
    "    for i in tqdm.tqdm(range(episodes), desc=msg):\n",
    "        Q, _ = run_Q_learning_episode(env, pi, Q, alpha, epsilon, gamma)\n",
    "        pi = compute_policy_by_Q(Q)\n",
    "        if dump_reward_every is not None and (i + 1) % dump_reward_every == 0:\n",
    "            reward = monte_carlo_reward(env, pi, run_Q_learning_episode, episodes=100000, verbose=False,\n",
    "                                        Q=Q, alpha=alpha, epsilon=epsilon, gamma=gamma)\n",
    "            reward_hist.append(reward)\n",
    "    \n",
    "    return pi, Q, reward_hist\n",
    "\n",
    "\n",
    "def test_learning(env):\n",
    "    alpha = 0.005\n",
    "    epsilon = 0.05\n",
    "    gamma = 0.1\n",
    "    pi, Q, _ = q_learning(env, alpha=alpha, epsilon=epsilon, gamma=gamma, episodes=100000)\n",
    "    return monte_carlo_reward(env, pi, run_Q_learning_episode, episodes=100000, verbose=True,\n",
    "                              Q=Q, alpha=alpha, epsilon=epsilon, gamma=gamma)\n",
    "\n",
    "test_learning(make_env())"
   ]
  },
  {
   "cell_type": "markdown",
   "id": "496d3510",
   "metadata": {},
   "source": [
    "### 1.3 Сколько выигрывает казино у вашей стратегии? Нарисуйте графики среднего дохода вашего метода (усреднённого по крайней мере по 100000 раздач, а лучше больше) по ходу обучения. Попробуйте подобрать оптимальные гиперпараметры."
   ]
  },
  {
   "cell_type": "code",
   "execution_count": 8,
   "id": "55a57db1",
   "metadata": {},
   "outputs": [
    {
     "name": "stderr",
     "output_type": "stream",
     "text": [
      "Train (a=0.0040, e=0.0500, g=0.05): 100%|█| 100000/100000 [00:09<00:00, 10367.97\n"
     ]
    },
    {
     "name": "stdout",
     "output_type": "stream",
     "text": [
      "-0.057215\n",
      "Best reward: -0.0572.\n",
      "alpha = 0.0040, epsilon = 0.0500, gamma = 0.05.\n"
     ]
    }
   ],
   "source": [
    "def best_params(env, train_episodes, eval_episodes, alpha_values, epsilon_values, gamma_values):\n",
    "    best_reward, best_pi, best_alpha, best_epsilon, best_gamma = -1000, None, None, None, None\n",
    "    for i, (alpha, epsilon, gamma) in enumerate(product(alpha_values, epsilon_values, gamma_values)):\n",
    "        pi, Q, _ = q_learning(\n",
    "            env=env,\n",
    "            alpha=alpha,\n",
    "            epsilon=epsilon,\n",
    "            gamma=gamma,\n",
    "            episodes=train_episodes,\n",
    "        )\n",
    "        avg_reward = monte_carlo_reward(\n",
    "            env, pi, run_Q_learning_episode,\n",
    "            episodes=eval_episodes, verbose=False,\n",
    "            Q=Q, alpha=alpha, epsilon=epsilon, gamma=gamma)\n",
    "        print(avg_reward)\n",
    "        if avg_reward > best_reward:\n",
    "            best_reward = avg_reward\n",
    "            best_pi = pi\n",
    "            best_alpha = alpha\n",
    "            best_epsilon = epsilon\n",
    "            best_gamma = gamma\n",
    "            \n",
    "        print(f'Best reward: {best_reward:.4f}.')\n",
    "        print(f'alpha = {best_alpha:.4f}' \\\n",
    "          f', epsilon = {best_epsilon:.4f}' \\\n",
    "          f', gamma = {best_gamma:.2f}.')\n",
    "    \n",
    "best_params(\n",
    "    env=make_env(),\n",
    "    train_episodes=100000, eval_episodes=100000,\n",
    "    alpha_values = [0.004], # np.arange(0.002, 0.010, 0.001),\n",
    "    epsilon_values = [0.05], # np.arange(0.05, 0.15, 0.05)\n",
    "    gamma_values = [0.05], # np.arange(0.05, 0.15, 0.05)\n",
    ")"
   ]
  },
  {
   "cell_type": "markdown",
   "id": "629a9c7b",
   "metadata": {},
   "source": [
    "#### Итак, лучшие гиперпараметры (alpha = 0.0040, epsilon = 0.0500, gamma = 0.05) дают Best reward: -0.0447"
   ]
  },
  {
   "cell_type": "code",
   "execution_count": 9,
   "id": "93fbe1f9",
   "metadata": {},
   "outputs": [
    {
     "name": "stderr",
     "output_type": "stream",
     "text": [
      "Train (a=0.0040, e=0.0500, g=0.05): 100%|█| 200000/200000 [01:55<00:00, 1730.59i\n"
     ]
    },
    {
     "data": {
      "image/png": "[encoded data removed]",
      "text/plain": [
       "<Figure size 1440x720 with 1 Axes>"
      ]
     },
     "metadata": {
      "needs_background": "light"
     },
     "output_type": "display_data"
    }
   ],
   "source": [
    "def plot(env, alpha, epsilon, gamma, train_episodes=200000):\n",
    "    dump_reward_every = (int)(train_episodes/10)  \n",
    "    _, _, rewards = q_learning(\n",
    "        env=env,\n",
    "        alpha=alpha,\n",
    "        epsilon=epsilon,\n",
    "        gamma=gamma,\n",
    "        episodes=train_episodes,\n",
    "        dump_reward_every=dump_reward_every\n",
    "    )\n",
    "    plt.figure(figsize=(20, 10))\n",
    "    plt.plot(range(1, train_episodes, dump_reward_every), rewards)\n",
    "    plt.title('Average reward during training')\n",
    "    plt.xlabel('Episode number')\n",
    "    plt.ylabel('Average reward')\n",
    "    plt.grid()\n",
    "\n",
    "plot(env=make_env(), alpha=0.0040, epsilon=0.0500, gamma=0.05)"
   ]
  },
  {
   "cell_type": "markdown",
   "id": "033045a6",
   "metadata": {},
   "source": [
    "## Часть вторая, удвоенная"
   ]
  },
  {
   "cell_type": "markdown",
   "id": "1c2ca2a4",
   "metadata": {},
   "source": [
    "В базовый блекджек, описанный в предыдущем разделе, обыграть казино вряд ли\n",
    "получится. Но, к счастью, на этом история не заканчивается. Описанные выше правила\n",
    "были упрощёнными, а на самом деле у игрока есть ещё и другие возможности.\n",
    "Реализовывать split может оказаться непросто, поэтому давайте ограничимся удвоением\n",
    "ставки. Итак, у игрока появляется дополнительное действие:\n",
    "* double — удвоить ставку; при этом больше действий делать нельзя, игроку выдаётся ровно одна дополнительная карта, а выигрыш или проигрыш удваивается."
   ]
  },
  {
   "cell_type": "markdown",
   "id": "1f692ded",
   "metadata": {},
   "source": [
    "### 2.1 Реализуйте новый вариант блекджека на основе окружения Blackjack-v0 из OpenAI Gym, в котором разрешено удвоение ставки.\n",
    "\n",
    "### 2.2 Реализуйте метод обучения с подкреплением без модели для этого варианта, постройте графики, аналогичные п.2."
   ]
  },
  {
   "cell_type": "code",
   "execution_count": 10,
   "id": "692f6126",
   "metadata": {},
   "outputs": [],
   "source": [
    "def make_double_env():\n",
    "    env = BlackjackDoubleEnv(natural=True)\n",
    "    env.reset()\n",
    "    return env"
   ]
  },
  {
   "cell_type": "code",
   "execution_count": 11,
   "id": "dc993d09",
   "metadata": {},
   "outputs": [
    {
     "name": "stderr",
     "output_type": "stream",
     "text": [
      "Train (a=0.0050, e=0.0500, g=0.10): 100%|█| 100000/100000 [00:09<00:00, 10507.17\n",
      "100%|█████████████████████████████████| 100000/100000 [00:10<00:00, 9906.29it/s]\n"
     ]
    },
    {
     "data": {
      "text/plain": [
       "-0.078635"
      ]
     },
     "execution_count": 11,
     "metadata": {},
     "output_type": "execute_result"
    }
   ],
   "source": [
    "test_learning(make_double_env())"
   ]
  },
  {
   "cell_type": "code",
   "execution_count": 12,
   "id": "bf5e3d52",
   "metadata": {},
   "outputs": [
    {
     "name": "stderr",
     "output_type": "stream",
     "text": [
      "Train (a=0.0090, e=0.0500, g=0.05): 100%|█| 100000/100000 [00:09<00:00, 10656.50\n"
     ]
    },
    {
     "name": "stdout",
     "output_type": "stream",
     "text": [
      "-0.06582\n",
      "Best reward: -0.0658.\n",
      "alpha = 0.0090, epsilon = 0.0500, gamma = 0.05.\n"
     ]
    }
   ],
   "source": [
    "best_params(\n",
    "    env=make_double_env(),\n",
    "    train_episodes=100000, eval_episodes=100000,\n",
    "    alpha_values = [0.009], #np.arange(0.001, 0.013, 0.001),\n",
    "    epsilon_values = [0.05], # np.arange(0.05, 0.15, 0.05),\n",
    "    gamma_values = [0.05] # np.arange(0.05, 0.25, 0.05)\n",
    ")"
   ]
  },
  {
   "cell_type": "code",
   "execution_count": 13,
   "id": "435fa73e",
   "metadata": {},
   "outputs": [
    {
     "name": "stderr",
     "output_type": "stream",
     "text": [
      "Train (a=0.0090, e=0.0500, g=0.05): 100%|█| 200000/200000 [01:56<00:00, 1720.76i\n"
     ]
    },
    {
     "data": {
      "image/png": "[encoded data removed]",
      "text/plain": [
       "<Figure size 1440x720 with 1 Axes>"
      ]
     },
     "metadata": {
      "needs_background": "light"
     },
     "output_type": "display_data"
    }
   ],
   "source": [
    "plot(env=make_double_env(), alpha=0.009, epsilon=0.05, gamma=0.05)"
   ]
  },
  {
   "cell_type": "markdown",
   "id": "8b40c7c0",
   "metadata": {},
   "source": [
    "## Часть третья, в главной роли — Дастин Хоффман"
   ]
  },
  {
   "cell_type": "markdown",
   "id": "5a0da64c",
   "metadata": {},
   "source": [
    "А теперь давайте вспомним, как играют в блекджек настоящие профессионалы. Дело в\n",
    "том, что в оффлайн-казино обычно не перемешивают колоду после каждой раздачи — это\n",
    "слишком замедляло бы игру. После раздачи карты просто раздаются дальше с верха\n",
    "колоды до тех пор, пока карт не останется слишком мало, и только тогда колодаперемешивается; давайте для определённости считать, что наше казино будет\n",
    "перемешивать колоду, в которой осталось меньше 15 карт."
   ]
  },
  {
   "cell_type": "markdown",
   "id": "21bdeb5c",
   "metadata": {},
   "source": [
    "Действительно, если вы будете запоминать, какие карты уже вышли, у вас будет\n",
    "информация о том, какие карты ещё остались, а это позволяет лучше понять, когда нужно\n",
    "удваивать ставку или делать split, а когда лучше не стоит. В настоящем казино могут\n",
    "раздавать карты сразу из нескольких колод, и заслуга Rain Man’а была в том, что он смог\n",
    "считать карты в шести колодах одновременно. Но мы с вами вооружены компьютерами,\n",
    "так что подсчёт можно считать автоматическим."
   ]
  },
  {
   "cell_type": "markdown",
   "id": "e57cc3d2",
   "metadata": {},
   "source": [
    "### 3.1 Реализуйте вариант окружения Blackjack-v0 из предыдущей части (с удвоением), в котором игрок имеет возможность “считать карты” в колоде. Это можно сделать разными способами; возможно, вам поможет статья википедии о блекджеке (а возможно, и нет).\n",
    "\n",
    "### 3.2 Реализуйте метод обучения с подкреплением без модели для этого варианта, постройте графики, аналогичные п.2."
   ]
  },
  {
   "cell_type": "code",
   "execution_count": 14,
   "id": "ee4bdba1",
   "metadata": {},
   "outputs": [],
   "source": [
    "def make_counting_env():\n",
    "    env = BlackjackCountingEnv(natural=True, num_decks=4)\n",
    "    env.reset()\n",
    "    return env"
   ]
  },
  {
   "cell_type": "code",
   "execution_count": 15,
   "id": "19f61271",
   "metadata": {},
   "outputs": [
    {
     "name": "stderr",
     "output_type": "stream",
     "text": [
      "Train (a=0.0050, e=0.0500, g=0.10): 100%|█| 100000/100000 [00:28<00:00, 3479.36i\n",
      "100%|█████████████████████████████████| 100000/100000 [00:11<00:00, 8349.28it/s]\n"
     ]
    },
    {
     "data": {
      "text/plain": [
       "-0.14358"
      ]
     },
     "execution_count": 15,
     "metadata": {},
     "output_type": "execute_result"
    }
   ],
   "source": [
    "test_learning(make_counting_env())"
   ]
  },
  {
   "cell_type": "code",
   "execution_count": null,
   "id": "51d26f89",
   "metadata": {},
   "outputs": [],
   "source": [
    "best_params(\n",
    "    env=make_counting_env(),\n",
    "    train_episodes=100000, eval_episodes=100000,\n",
    "    alpha_values = np.arange(0.001, 0.015, 0.001),\n",
    "    epsilon_values = np.arange(0.00, 0.15, 0.05),\n",
    "    gamma_values = np.arange(0.05, 0.25, 0.05)\n",
    ")"
   ]
  },
  {
   "cell_type": "code",
   "execution_count": null,
   "id": "e1fab7d9",
   "metadata": {},
   "outputs": [],
   "source": [
    "def make_raining_man_env():\n",
    "    # попробуем считать сразу 6 колод (одна deck = одна масть, поэтому *4)\n",
    "    env = BlackjackCountingEnv(natural=True, num_decks=4*6)\n",
    "    env.reset()\n",
    "    return env"
   ]
  },
  {
   "cell_type": "code",
   "execution_count": null,
   "id": "e06997af",
   "metadata": {},
   "outputs": [],
   "source": [
    "test_learning(make_raining_man_env())"
   ]
  },
  {
   "cell_type": "code",
   "execution_count": null,
   "id": "40c6309f",
   "metadata": {},
   "outputs": [],
   "source": [
    "best_params(\n",
    "    env=make_raining_man_env(),\n",
    "    train_episodes=100000, eval_episodes=100000,\n",
    "    alpha_values = np.arange(0.001, 0.015, 0.001),\n",
    "    epsilon_values = np.arange(0.00, 0.15, 0.05),\n",
    "    gamma_values = np.arange(0.05, 0.25, 0.05)\n",
    ")"
   ]
  }
 ],
 "metadata": {
  "kernelspec": {
   "display_name": "Python 3 (ipykernel)",
   "language": "python",
   "name": "python3"
  },
  "language_info": {
   "codemirror_mode": {
    "name": "ipython",
    "version": 3
   },
   "file_extension": ".py",
   "mimetype": "text/x-python",
   "name": "python",
   "nbconvert_exporter": "python",
   "pygments_lexer": "ipython3",
   "version": "3.8.0"
  }
 },
 "nbformat": 4,
 "nbformat_minor": 5
}
